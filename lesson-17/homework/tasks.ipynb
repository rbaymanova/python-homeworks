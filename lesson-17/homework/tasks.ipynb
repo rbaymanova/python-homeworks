{
 "cells": [
  {
   "cell_type": "code",
   "execution_count": 1,
   "metadata": {},
   "outputs": [],
   "source": [
    "import sqlite3\n",
    "import pandas as pd\n",
    "from sklearn.pipeline import Pipeline\n",
    "from sklearn.impute import SimpleImputer\n",
    "import numpy as np"
   ]
  },
  {
   "cell_type": "markdown",
   "metadata": {},
   "source": [
    "Inner Join on Chinook Database"
   ]
  },
  {
   "cell_type": "code",
   "execution_count": 2,
   "metadata": {},
   "outputs": [
    {
     "name": "stdout",
     "output_type": "stream",
     "text": [
      "    CustomerId  FirstName      LastName  TotalInvoices\n",
      "0            1       Luís     Gonçalves              7\n",
      "1            2     Leonie        Köhler              7\n",
      "2            3   François      Tremblay              7\n",
      "3            4      Bjørn        Hansen              7\n",
      "4            5  František   Wichterlová              7\n",
      "5            6     Helena          Holý              7\n",
      "6            7     Astrid        Gruber              7\n",
      "7            8       Daan       Peeters              7\n",
      "8            9       Kara       Nielsen              7\n",
      "9           10    Eduardo       Martins              7\n",
      "10          11  Alexandre         Rocha              7\n",
      "11          12    Roberto       Almeida              7\n",
      "12          13   Fernanda         Ramos              7\n",
      "13          14       Mark       Philips              7\n",
      "14          15   Jennifer      Peterson              7\n",
      "15          16      Frank        Harris              7\n",
      "16          17       Jack         Smith              7\n",
      "17          18   Michelle        Brooks              7\n",
      "18          19        Tim         Goyer              7\n",
      "19          20        Dan        Miller              7\n",
      "20          21      Kathy         Chase              7\n",
      "21          22    Heather       Leacock              7\n",
      "22          23       John        Gordon              7\n",
      "23          24      Frank       Ralston              7\n",
      "24          25     Victor       Stevens              7\n",
      "25          26    Richard    Cunningham              7\n",
      "26          27    Patrick          Gray              7\n",
      "27          28      Julia       Barnett              7\n",
      "28          29     Robert         Brown              7\n",
      "29          30     Edward       Francis              7\n",
      "30          31     Martha          Silk              7\n",
      "31          32      Aaron      Mitchell              7\n",
      "32          33      Ellie      Sullivan              7\n",
      "33          34       João     Fernandes              7\n",
      "34          35   Madalena       Sampaio              7\n",
      "35          36     Hannah     Schneider              7\n",
      "36          37       Fynn    Zimmermann              7\n",
      "37          38     Niklas      Schröder              7\n",
      "38          39    Camille       Bernard              7\n",
      "39          40  Dominique      Lefebvre              7\n",
      "40          41       Marc        Dubois              7\n",
      "41          42      Wyatt        Girard              7\n",
      "42          43   Isabelle       Mercier              7\n",
      "43          44      Terhi    Hämäläinen              7\n",
      "44          45   Ladislav        Kovács              7\n",
      "45          46       Hugh      O'Reilly              7\n",
      "46          47      Lucas       Mancini              7\n",
      "47          48   Johannes  Van der Berg              7\n",
      "48          49  Stanisław        Wójcik              7\n",
      "49          50    Enrique         Muñoz              7\n",
      "50          51     Joakim     Johansson              7\n",
      "51          52       Emma         Jones              7\n",
      "52          53       Phil        Hughes              7\n",
      "53          54      Steve        Murray              7\n",
      "54          55       Mark        Taylor              7\n",
      "55          56      Diego     Gutiérrez              7\n",
      "56          57       Luis         Rojas              7\n",
      "57          58      Manoj        Pareek              7\n",
      "58          59       Puja    Srivastava              6\n"
     ]
    }
   ],
   "source": [
    "conn = sqlite3.connect('chinook.db')\n",
    "query = \"\"\"\n",
    "SELECT c.CustomerId, c.FirstName, c.LastName, COUNT(i.InvoiceId) AS TotalInvoices\n",
    "FROM customers c\n",
    "INNER JOIN invoices i ON c.CustomerId = i.CustomerId\n",
    "GROUP BY c.CustomerId, c.FirstName, c.LastName\n",
    "ORDER BY TotalInvoices DESC;\n",
    "\"\"\"\n",
    "result_df = pd.read_sql_query(query, conn)\n",
    "print(result_df)\n",
    "conn.close()"
   ]
  },
  {
   "cell_type": "markdown",
   "metadata": {},
   "source": [
    "Outer Join on Movie Data"
   ]
  },
  {
   "cell_type": "code",
   "execution_count": 3,
   "metadata": {},
   "outputs": [
    {
     "name": "stdout",
     "output_type": "stream",
     "text": [
      "Number of rows in left join result: 30300\n",
      "Number of rows in full outer join result: 30300\n"
     ]
    }
   ],
   "source": [
    "movies_df = pd.read_csv('movie.csv')\n",
    "df_director_color = movies_df[['director_name', 'color']]\n",
    "df_director_reviews = movies_df[['director_name', 'num_critic_for_reviews']]\n",
    "left_join_df = pd.merge(df_director_color, df_director_reviews, on='director_name', how='left')\n",
    "outer_join_df = pd.merge(df_director_color, df_director_reviews, on='director_name', how='outer')\n",
    "left_join_count = len(left_join_df)\n",
    "outer_join_count = len(outer_join_df)\n",
    "print(f\"Number of rows in left join result: {left_join_count}\")\n",
    "print(f\"Number of rows in full outer join result: {outer_join_count}\")"
   ]
  },
  {
   "cell_type": "markdown",
   "metadata": {},
   "source": [
    "Grouped Aggregations on Titanic"
   ]
  },
  {
   "cell_type": "code",
   "execution_count": 4,
   "metadata": {},
   "outputs": [
    {
     "name": "stdout",
     "output_type": "stream",
     "text": [
      "   Pclass  Average_Age  Total_Fare  Passenger_Count\n",
      "0       1    38.233441  18177.4125              216\n",
      "1       2    29.877630   3801.8417              184\n",
      "2       3    25.140620   6714.6951              491\n"
     ]
    }
   ],
   "source": [
    "titanic_df = pd.read_excel('titanic.xlsx')\n",
    "grouped_titanic = titanic_df.groupby('Pclass').agg(\n",
    "    Average_Age=('Age', 'mean'),\n",
    "    Total_Fare=('Fare', 'sum'),\n",
    "    Passenger_Count=('PassengerId', 'count')\n",
    ").reset_index()\n",
    "\n",
    "print(grouped_titanic)"
   ]
  },
  {
   "cell_type": "markdown",
   "metadata": {},
   "source": [
    "Multi-level Grouping on Movie Data"
   ]
  },
  {
   "cell_type": "code",
   "execution_count": 5,
   "metadata": {},
   "outputs": [
    {
     "name": "stdout",
     "output_type": "stream",
     "text": [
      "                color       director_name  Total_Critic_Reviews  \\\n",
      "0     Black and White      Akira Kurosawa                 153.0   \n",
      "1     Black and White      Aleksey German                 121.0   \n",
      "2     Black and White        Alex Garland                 489.0   \n",
      "3     Black and White     Alexander Payne                 433.0   \n",
      "4     Black and White    Alfred Hitchcock                 434.0   \n",
      "...               ...                 ...                   ...   \n",
      "2485            Color       Zoran Lisinac                  17.0   \n",
      "2486            Color  Álex de la Iglesia                  71.0   \n",
      "2487            Color    Émile Gaudreault                  67.0   \n",
      "2488            Color        Éric Tessier                   9.0   \n",
      "2489            Color       Étienne Faure                   9.0   \n",
      "\n",
      "      Average_Duration  \n",
      "0                202.0  \n",
      "1                177.0  \n",
      "2                108.0  \n",
      "3                115.0  \n",
      "4                119.0  \n",
      "...                ...  \n",
      "2485             108.0  \n",
      "2486             104.0  \n",
      "2487              92.0  \n",
      "2488              99.0  \n",
      "2489              98.0  \n",
      "\n",
      "[2490 rows x 4 columns]\n"
     ]
    }
   ],
   "source": [
    "movies_df = pd.read_csv('movie.csv')\n",
    "grouped_movies = movies_df.groupby(['color', 'director_name']).agg(\n",
    "    Total_Critic_Reviews=('num_critic_for_reviews', 'sum'),\n",
    "    Average_Duration=('duration', 'mean')\n",
    ").reset_index()\n",
    "\n",
    "print(grouped_movies)"
   ]
  },
  {
   "cell_type": "markdown",
   "metadata": {},
   "source": [
    "Apply a Custom Function on Titanic"
   ]
  },
  {
   "cell_type": "code",
   "execution_count": 6,
   "metadata": {},
   "outputs": [
    {
     "name": "stdout",
     "output_type": "stream",
     "text": [
      "    Age Age_Group\n",
      "0  22.0     Adult\n",
      "1  38.0     Adult\n",
      "2  26.0     Adult\n",
      "3  35.0     Adult\n",
      "4  35.0     Adult\n"
     ]
    }
   ],
   "source": [
    "def classify_age(age):\n",
    "    if age < 18:\n",
    "        return 'Child'\n",
    "    else:\n",
    "        return 'Adult'\n",
    "\n",
    "titanic_df['Age_Group'] = titanic_df['Age'].apply(classify_age)\n",
    "print(titanic_df[['Age', 'Age_Group']].head())"
   ]
  },
  {
   "cell_type": "markdown",
   "metadata": {},
   "source": [
    "Normalize Employee Salaries"
   ]
  },
  {
   "cell_type": "code",
   "execution_count": 7,
   "metadata": {},
   "outputs": [
    {
     "name": "stdout",
     "output_type": "stream",
     "text": [
      "   UNIQUE_ID               POSITION_TITLE                     DEPARTMENT  \\\n",
      "0          0  ASSISTANT DIRECTOR (EX LVL)    Municipal Courts Department   \n",
      "1          1            LIBRARY ASSISTANT                        Library   \n",
      "2          2               POLICE OFFICER  Houston Police Department-HPD   \n",
      "3          3            ENGINEER/OPERATOR  Houston Fire Department (HFD)   \n",
      "4          4                  ELECTRICIAN    General Services Department   \n",
      "\n",
      "   BASE_SALARY             RACE EMPLOYMENT_TYPE  GENDER EMPLOYMENT_STATUS  \\\n",
      "0     121862.0  Hispanic/Latino       Full Time  Female            Active   \n",
      "1      26125.0  Hispanic/Latino       Full Time  Female            Active   \n",
      "2      45279.0            White       Full Time    Male            Active   \n",
      "3      63166.0            White       Full Time    Male            Active   \n",
      "4      56347.0            White       Full Time    Male            Active   \n",
      "\n",
      "    HIRE_DATE    JOB_DATE  Normalized_Salary  \n",
      "0  2006-06-12  2012-10-13           1.000000  \n",
      "1  2000-07-19  2010-09-18           0.000000  \n",
      "2  2015-02-03  2015-02-03           0.116351  \n",
      "3  1982-02-08  1991-05-25           0.192491  \n",
      "4  1989-06-19  1994-10-22           0.479189  \n"
     ]
    }
   ],
   "source": [
    "employee_df = pd.read_csv('employee.csv')\n",
    "employee_df['Normalized_Salary'] = employee_df.groupby('DEPARTMENT')['BASE_SALARY'].transform(\n",
    "    lambda x: (x - x.min()) / (x.max() - x.min())\n",
    ")\n",
    "\n",
    "print(employee_df.head())"
   ]
  },
  {
   "cell_type": "markdown",
   "metadata": {},
   "source": [
    "Custom Function on Movies"
   ]
  },
  {
   "cell_type": "code",
   "execution_count": 8,
   "metadata": {},
   "outputs": [
    {
     "name": "stdout",
     "output_type": "stream",
     "text": [
      "                                  movie_title  duration Duration_Category\n",
      "0                                      Avatar     178.0              Long\n",
      "1    Pirates of the Caribbean: At World's End     169.0              Long\n",
      "2                                     Spectre     148.0              Long\n",
      "3                       The Dark Knight Rises     164.0              Long\n",
      "4  Star Wars: Episode VII - The Force Awakens       NaN              Long\n"
     ]
    }
   ],
   "source": [
    "def classify_duration(duration):\n",
    "    if duration < 60:\n",
    "        return 'Short'\n",
    "    elif 60 <= duration <= 120:\n",
    "        return 'Medium'\n",
    "    else:\n",
    "        return 'Long'\n",
    "\n",
    "movies_df['Duration_Category'] = movies_df['duration'].apply(classify_duration)\n",
    "print(movies_df[['movie_title', 'duration', 'Duration_Category']].head())"
   ]
  },
  {
   "cell_type": "markdown",
   "metadata": {},
   "source": [
    "Pipeline on Titanic"
   ]
  },
  {
   "cell_type": "code",
   "execution_count": 11,
   "metadata": {
    "vscode": {
     "languageId": "ruby"
    }
   },
   "outputs": [
    {
     "name": "stdout",
     "output_type": "stream",
     "text": [
      "   PassengerId  Survived   Age     Fare  Fare_Per_Age\n",
      "1            2         1  38.0  71.2833      1.875876\n",
      "2            3         1  26.0   7.9250      0.304808\n",
      "3            4         1  35.0  53.1000      1.517143\n",
      "8            9         1  27.0  11.1333      0.412344\n",
      "9           10         1  14.0  30.0708      2.147914\n"
     ]
    }
   ],
   "source": [
    "survived_passengers = titanic_df[titanic_df['Survived'] == 1].copy() \n",
    "pipeline = Pipeline([\n",
    "    ('fill_missing_age', SimpleImputer(strategy='mean')),\n",
    "])\n",
    "survived_passengers.loc[:, 'Age'] = pipeline.fit_transform(survived_passengers[['Age']])\n",
    "survived_passengers.loc[:, 'Fare_Per_Age'] = survived_passengers['Fare'] / survived_passengers['Age']\n",
    "\n",
    "print(survived_passengers[['PassengerId', 'Survived', 'Age', 'Fare', 'Fare_Per_Age']].head())"
   ]
  }
 ],
 "metadata": {
  "kernelspec": {
   "display_name": ".venv",
   "language": "python",
   "name": "python3"
  },
  "language_info": {
   "codemirror_mode": {
    "name": "ipython",
    "version": 3
   },
   "file_extension": ".py",
   "mimetype": "text/x-python",
   "name": "python",
   "nbconvert_exporter": "python",
   "pygments_lexer": "ipython3",
   "version": "3.12.7"
  }
 },
 "nbformat": 4,
 "nbformat_minor": 2
}
