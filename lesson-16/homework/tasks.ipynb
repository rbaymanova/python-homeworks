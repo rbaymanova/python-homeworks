{
 "cells": [
  {
   "cell_type": "code",
   "execution_count": 13,
   "metadata": {},
   "outputs": [],
   "source": [
    "import sqlite3\n",
    "import pandas as pd"
   ]
  },
  {
   "cell_type": "markdown",
   "metadata": {},
   "source": [
    "1. chinook.db"
   ]
  },
  {
   "cell_type": "code",
   "execution_count": 14,
   "metadata": {},
   "outputs": [
    {
     "name": "stdout",
     "output_type": "stream",
     "text": [
      "   CustomerId  FirstName     LastName  \\\n",
      "0           1       Luís    Gonçalves   \n",
      "1           2     Leonie       Köhler   \n",
      "2           3   François     Tremblay   \n",
      "3           4      Bjørn       Hansen   \n",
      "4           5  František  Wichterlová   \n",
      "5           6     Helena         Holý   \n",
      "6           7     Astrid       Gruber   \n",
      "7           8       Daan      Peeters   \n",
      "8           9       Kara      Nielsen   \n",
      "9          10    Eduardo      Martins   \n",
      "\n",
      "                                            Company  \\\n",
      "0  Embraer - Empresa Brasileira de Aeronáutica S.A.   \n",
      "1                                              None   \n",
      "2                                              None   \n",
      "3                                              None   \n",
      "4                                  JetBrains s.r.o.   \n",
      "5                                              None   \n",
      "6                                              None   \n",
      "7                                              None   \n",
      "8                                              None   \n",
      "9                                  Woodstock Discos   \n",
      "\n",
      "                                Address                 City State  \\\n",
      "0       Av. Brigadeiro Faria Lima, 2170  São José dos Campos    SP   \n",
      "1               Theodor-Heuss-Straße 34            Stuttgart  None   \n",
      "2                     1498 rue Bélanger             Montréal    QC   \n",
      "3                      Ullevålsveien 14                 Oslo  None   \n",
      "4                         Klanova 9/506               Prague  None   \n",
      "5                         Rilská 3174/6               Prague  None   \n",
      "6  Rotenturmstraße 4, 1010 Innere Stadt               Vienne  None   \n",
      "7                       Grétrystraat 63             Brussels  None   \n",
      "8                   Sønder Boulevard 51           Copenhagen  None   \n",
      "9             Rua Dr. Falcão Filho, 155            São Paulo    SP   \n",
      "\n",
      "          Country PostalCode               Phone                 Fax  \\\n",
      "0          Brazil  12227-000  +55 (12) 3923-5555  +55 (12) 3923-5566   \n",
      "1         Germany      70174    +49 0711 2842222                None   \n",
      "2          Canada    H2G 1A7   +1 (514) 721-4711                None   \n",
      "3          Norway       0171     +47 22 44 22 22                None   \n",
      "4  Czech Republic      14700    +420 2 4172 5555    +420 2 4172 5555   \n",
      "5  Czech Republic      14300    +420 2 4177 0449                None   \n",
      "6         Austria       1010      +43 01 5134505                None   \n",
      "7         Belgium       1000    +32 02 219 03 03                None   \n",
      "8         Denmark       1720      +453 3331 9991                None   \n",
      "9          Brazil  01007-010  +55 (11) 3033-5446  +55 (11) 3033-4564   \n",
      "\n",
      "                      Email  SupportRepId  \n",
      "0      luisg@embraer.com.br             3  \n",
      "1     leonekohler@surfeu.de             5  \n",
      "2       ftremblay@gmail.com             3  \n",
      "3     bjorn.hansen@yahoo.no             4  \n",
      "4  frantisekw@jetbrains.com             4  \n",
      "5           hholy@gmail.com             5  \n",
      "6    astrid.gruber@apple.at             5  \n",
      "7     daan_peeters@apple.be             4  \n",
      "8     kara.nielsen@jubii.dk             4  \n",
      "9  eduardo@woodstock.com.br             4  \n"
     ]
    }
   ],
   "source": [
    "conn = sqlite3.connect('chinook.db')\n",
    "customers_df = pd.read_sql_query(\"SELECT * FROM customers\", conn)\n",
    "print(customers_df.head(10))"
   ]
  },
  {
   "cell_type": "markdown",
   "metadata": {},
   "source": [
    "2. iris.json"
   ]
  },
  {
   "cell_type": "code",
   "execution_count": 15,
   "metadata": {},
   "outputs": [
    {
     "name": "stdout",
     "output_type": "stream",
     "text": [
      "Shape of iris dataset: (150, 5)\n",
      "Column names: Index(['sepalLength', 'sepalWidth', 'petalLength', 'petalWidth', 'species'], dtype='object')\n"
     ]
    }
   ],
   "source": [
    "iris_df = pd.read_json(\"iris.json\")\n",
    "\n",
    "print(\"Shape of iris dataset:\", iris_df.shape)\n",
    "print(\"Column names:\", iris_df.columns)"
   ]
  },
  {
   "cell_type": "markdown",
   "metadata": {},
   "source": [
    "3. titanic.xlsx"
   ]
  },
  {
   "cell_type": "code",
   "execution_count": 16,
   "metadata": {},
   "outputs": [
    {
     "name": "stdout",
     "output_type": "stream",
     "text": [
      "   PassengerId  Survived  Pclass  \\\n",
      "0            1         0       3   \n",
      "1            2         1       1   \n",
      "2            3         1       3   \n",
      "3            4         1       1   \n",
      "4            5         0       3   \n",
      "\n",
      "                                                Name     Sex   Age  SibSp  \\\n",
      "0                            Braund, Mr. Owen Harris    male  22.0      1   \n",
      "1  Cumings, Mrs. John Bradley (Florence Briggs Th...  female  38.0      1   \n",
      "2                             Heikkinen, Miss. Laina  female  26.0      0   \n",
      "3       Futrelle, Mrs. Jacques Heath (Lily May Peel)  female  35.0      1   \n",
      "4                           Allen, Mr. William Henry    male  35.0      0   \n",
      "\n",
      "   Parch            Ticket     Fare Cabin Embarked  \n",
      "0      0         A/5 21171   7.2500   NaN        S  \n",
      "1      0          PC 17599  71.2833   C85        C  \n",
      "2      0  STON/O2. 3101282   7.9250   NaN        S  \n",
      "3      0            113803  53.1000  C123        S  \n",
      "4      0            373450   8.0500   NaN        S  \n"
     ]
    }
   ],
   "source": [
    "titanic_df = pd.read_excel(\"titanic.xlsx\")\n",
    "print(titanic_df.head(5))"
   ]
  },
  {
   "cell_type": "markdown",
   "metadata": {},
   "source": [
    "5. movie.cv"
   ]
  },
  {
   "cell_type": "code",
   "execution_count": 17,
   "metadata": {},
   "outputs": [
    {
     "name": "stdout",
     "output_type": "stream",
     "text": [
      "      color    director_name  num_critic_for_reviews  duration  \\\n",
      "3103  Color    Joel Edgerton                   297.0     108.0   \n",
      "4539  Color      James Algar                   116.0      70.0   \n",
      "4519  Color       D. Stevens                     6.0      94.0   \n",
      "4781  Color   David G. Evans                    25.0     101.0   \n",
      "2361  Color    Ricky Gervais                   192.0     100.0   \n",
      "889   Color   Richard Lester                   121.0     116.0   \n",
      "2930  Color    Stuart Gordon                    58.0      95.0   \n",
      "354   Color  Carlos Saldanha                   188.0      94.0   \n",
      "1635  Color     Marc Forster                   253.0     113.0   \n",
      "4012  Color   Anthony Hickox                    22.0      98.0   \n",
      "\n",
      "      director_facebook_likes  actor_3_facebook_likes      actor_2_name  \\\n",
      "3103                      0.0                   458.0    Allison Tolman   \n",
      "4539                     11.0                     8.0    Donnie Dunagan   \n",
      "4519                      6.0                     0.0      Pierre Dulat   \n",
      "4781                      0.0                    16.0      Chris Thomas   \n",
      "2361                      0.0                   985.0          Tina Fey   \n",
      "889                      44.0                   420.0        Ned Beatty   \n",
      "2930                    216.0                   968.0    Kurtwood Smith   \n",
      "354                     107.0                   117.0    Maile Flanagan   \n",
      "1635                    395.0                    77.0  Christian Stolte   \n",
      "4012                     16.0                   222.0     Zach Galligan   \n",
      "\n",
      "      actor_1_facebook_likes        gross  \\\n",
      "3103                  1000.0   43771291.0   \n",
      "4539                    16.0  102797150.0   \n",
      "4519                    92.0          NaN   \n",
      "4781                 77000.0    2428241.0   \n",
      "2361                  3000.0   18439082.0   \n",
      "889                    593.0  108200000.0   \n",
      "2930                  1000.0    6739141.0   \n",
      "354                    835.0  196573705.0   \n",
      "1635                  8000.0   40137776.0   \n",
      "4012                   687.0    3902679.0   \n",
      "\n",
      "                                        genres  ... num_user_for_reviews  \\\n",
      "3103                          Mystery|Thriller  ...                279.0   \n",
      "4539                    Animation|Drama|Family  ...                136.0   \n",
      "4519                            Drama|Thriller  ...                 24.0   \n",
      "4781                                     Drama  ...                 26.0   \n",
      "2361                    Comedy|Fantasy|Romance  ...                287.0   \n",
      "889            Action|Adventure|Romance|Sci-Fi  ...                269.0   \n",
      "2930              Action|Crime|Sci-Fi|Thriller  ...                 68.0   \n",
      "354   Action|Adventure|Animation|Comedy|Family  ...                132.0   \n",
      "1635              Comedy|Drama|Fantasy|Romance  ...                529.0   \n",
      "4012                            Fantasy|Horror  ...                 49.0   \n",
      "\n",
      "     language    country  content_rating      budget  title_year  \\\n",
      "3103  English        USA               R   5000000.0      2015.0   \n",
      "4539  English        USA        Approved         NaN      1942.0   \n",
      "4519  English        USA             NaN   1000000.0      2006.0   \n",
      "4781  English        USA           PG-13    200000.0      2010.0   \n",
      "2361  English        USA           PG-13  18500000.0      2009.0   \n",
      "889   English        USA              PG  54000000.0      1980.0   \n",
      "2930  English  Australia               R   8000000.0      1992.0   \n",
      "354   English        USA              PG  90000000.0      2009.0   \n",
      "1635  English        USA           PG-13  38000000.0      2006.0   \n",
      "4012  English        USA               R   3000000.0      1993.0   \n",
      "\n",
      "     actor_2_facebook_likes imdb_score  aspect_ratio movie_facebook_likes  \n",
      "3103                  562.0        7.1          2.35                15000  \n",
      "4539                   12.0        7.4          1.33                    0  \n",
      "4519                   17.0        3.9           NaN                   91  \n",
      "4781                   21.0        6.4           NaN                    0  \n",
      "2361                 2000.0        6.4          1.85                13000  \n",
      "889                   467.0        6.8          2.35                    0  \n",
      "2930                 1000.0        5.9          1.85                 1000  \n",
      "354                   256.0        7.0          1.85                    0  \n",
      "1635                  189.0        7.6          1.85                13000  \n",
      "4012                  233.0        5.3          1.66                  217  \n",
      "\n",
      "[10 rows x 28 columns]\n"
     ]
    }
   ],
   "source": [
    "movie_df = pd.read_csv(\"movie.csv\")\n",
    "print(movie_df.sample(10))"
   ]
  },
  {
   "cell_type": "markdown",
   "metadata": {},
   "source": [
    "Part 2"
   ]
  },
  {
   "cell_type": "code",
   "execution_count": 20,
   "metadata": {},
   "outputs": [
    {
     "name": "stdout",
     "output_type": "stream",
     "text": [
      "   sepallength  sepalwidth\n",
      "0          5.1         3.5\n",
      "1          4.9         3.0\n",
      "2          4.7         3.2\n",
      "3          4.6         3.1\n",
      "4          5.0         3.6\n"
     ]
    }
   ],
   "source": [
    "iris_selected = iris_df[['sepallength', 'sepalwidth']]\n",
    "print(iris_selected.head())"
   ]
  },
  {
   "cell_type": "code",
   "execution_count": null,
   "metadata": {},
   "outputs": [
    {
     "name": "stdout",
     "output_type": "stream",
     "text": [
      "    PassengerId  Survived  Pclass  \\\n",
      "1             2         1       1   \n",
      "3             4         1       1   \n",
      "4             5         0       3   \n",
      "6             7         0       1   \n",
      "11           12         1       1   \n",
      "\n",
      "                                                 Name     Sex   Age  SibSp  \\\n",
      "1   Cumings, Mrs. John Bradley (Florence Briggs Th...  female  38.0      1   \n",
      "3        Futrelle, Mrs. Jacques Heath (Lily May Peel)  female  35.0      1   \n",
      "4                            Allen, Mr. William Henry    male  35.0      0   \n",
      "6                             McCarthy, Mr. Timothy J    male  54.0      0   \n",
      "11                           Bonnell, Miss. Elizabeth  female  58.0      0   \n",
      "\n",
      "    Parch    Ticket     Fare Cabin Embarked  \n",
      "1       0  PC 17599  71.2833   C85        C  \n",
      "3       0    113803  53.1000  C123        S  \n",
      "4       0    373450   8.0500   NaN        S  \n",
      "6       0     17463  51.8625   E46        S  \n",
      "11      0    113783  26.5500  C103        S  \n",
      "Sex\n",
      "male      577\n",
      "female    314\n",
      "Name: count, dtype: int64\n"
     ]
    }
   ],
   "source": [
    "titanic_above_30 = titanic_df[titanic_df['Age'] > 30]\n",
    "gender_counts = titanic_df['Sex'].value_counts()\n",
    "print(titanic_above_30.head())\n",
    "print(gender_counts)"
   ]
  },
  {
   "cell_type": "code",
   "execution_count": 22,
   "metadata": {},
   "outputs": [
    {
     "name": "stdout",
     "output_type": "stream",
     "text": [
      "      color      director_name  num_critic_for_reviews  duration  \\\n",
      "66    Color  Christopher Nolan                   645.0     152.0   \n",
      "3     Color  Christopher Nolan                   813.0     164.0   \n",
      "120   Color  Christopher Nolan                   478.0     128.0   \n",
      "1222  Color  Christopher Nolan                   341.0     130.0   \n",
      "97    Color  Christopher Nolan                   642.0     148.0   \n",
      "\n",
      "      director_facebook_likes  actor_3_facebook_likes    actor_2_name  \\\n",
      "66                    22000.0                 11000.0    Heath Ledger   \n",
      "3                     22000.0                 23000.0  Christian Bale   \n",
      "120                   22000.0                 11000.0     Liam Neeson   \n",
      "1222                  22000.0                 19000.0    Hugh Jackman   \n",
      "97                    22000.0                 23000.0       Tom Hardy   \n",
      "\n",
      "      actor_1_facebook_likes        gross                            genres  \\\n",
      "66                   23000.0  533316061.0       Action|Crime|Drama|Thriller   \n",
      "3                    27000.0  448130642.0                   Action|Thriller   \n",
      "120                  23000.0  205343774.0                  Action|Adventure   \n",
      "1222                 23000.0   53082743.0     Drama|Mystery|Sci-Fi|Thriller   \n",
      "97                   29000.0  292568851.0  Action|Adventure|Sci-Fi|Thriller   \n",
      "\n",
      "      ... num_user_for_reviews language  country  content_rating       budget  \\\n",
      "66    ...               4667.0  English      USA           PG-13  185000000.0   \n",
      "3     ...               2701.0  English      USA           PG-13  250000000.0   \n",
      "120   ...               2685.0  English      USA           PG-13  150000000.0   \n",
      "1222  ...               1100.0  English      USA           PG-13   40000000.0   \n",
      "97    ...               2803.0  English      USA           PG-13  160000000.0   \n",
      "\n",
      "      title_year actor_2_facebook_likes imdb_score  aspect_ratio  \\\n",
      "66        2008.0                13000.0        9.0          2.35   \n",
      "3         2012.0                23000.0        8.5          2.35   \n",
      "120       2005.0                14000.0        8.3          2.35   \n",
      "1222      2006.0                20000.0        8.5          2.35   \n",
      "97        2010.0                27000.0        8.8          2.35   \n",
      "\n",
      "     movie_facebook_likes  \n",
      "66                  37000  \n",
      "3                  164000  \n",
      "120                 15000  \n",
      "1222                49000  \n",
      "97                 175000  \n",
      "\n",
      "[5 rows x 28 columns]\n"
     ]
    }
   ],
   "source": [
    "long_movies = movie_df[movie_df['duration'] > 120]\n",
    "sorted_movies = long_movies.sort_values(by='director_facebook_likes', ascending=False)\n",
    "print(sorted_movies.head())"
   ]
  },
  {
   "cell_type": "markdown",
   "metadata": {},
   "source": [
    "Part 3"
   ]
  },
  {
   "cell_type": "code",
   "execution_count": 24,
   "metadata": {},
   "outputs": [
    {
     "name": "stdout",
     "output_type": "stream",
     "text": [
      "Mean:\n",
      " sepallength    5.843333\n",
      "sepalwidth     3.057333\n",
      "petallength    3.758000\n",
      "petalwidth     1.199333\n",
      "dtype: float64\n",
      "Median:\n",
      " sepallength    5.80\n",
      "sepalwidth     3.00\n",
      "petallength    4.35\n",
      "petalwidth     1.30\n",
      "dtype: float64\n",
      "Standard Deviation:\n",
      " sepallength    0.828066\n",
      "sepalwidth     0.435866\n",
      "petallength    1.765298\n",
      "petalwidth     0.762238\n",
      "dtype: float64\n"
     ]
    }
   ],
   "source": [
    "print(\"Mean:\\n\", iris_df.mean(numeric_only=True))\n",
    "print(\"Median:\\n\", iris_df.median(numeric_only=True))\n",
    "print(\"Standard Deviation:\\n\", iris_df.std(numeric_only=True))"
   ]
  },
  {
   "cell_type": "code",
   "execution_count": 25,
   "metadata": {},
   "outputs": [
    {
     "name": "stdout",
     "output_type": "stream",
     "text": [
      "Minimum Age: 0.42\n",
      "Maximum Age: 80.0\n",
      "Sum of Ages: 21205.17\n"
     ]
    }
   ],
   "source": [
    "print(\"Minimum Age:\", titanic_df['Age'].min())\n",
    "print(\"Maximum Age:\", titanic_df['Age'].max())\n",
    "print(\"Sum of Ages:\", titanic_df['Age'].sum())"
   ]
  },
  {
   "cell_type": "code",
   "execution_count": 28,
   "metadata": {},
   "outputs": [
    {
     "name": "stdout",
     "output_type": "stream",
     "text": [
      "Director with highest Facebook likes: Steven Spielberg\n",
      "                   movie_title        director_name  duration\n",
      "1694                   Trapped                  NaN     511.0\n",
      "2436                    Carlos                  NaN     334.0\n",
      "1487       Blood In, Blood Out      Taylor Hackford     330.0\n",
      "1134             Heaven's Gate       Michael Cimino     325.0\n",
      "3254  The Legend of Suriyothai  Chatrichalerm Yukol     300.0\n"
     ]
    }
   ],
   "source": [
    "top_director = movie_df.groupby('director_name')['director_facebook_likes'].sum().idxmax()\n",
    "print(\"Director with highest Facebook likes:\", top_director)\n",
    "top_5_longest = movie_df.nlargest(5, 'duration')[['movie_title', 'director_name', 'duration']]\n",
    "print(top_5_longest)"
   ]
  }
 ],
 "metadata": {
  "kernelspec": {
   "display_name": ".venv",
   "language": "python",
   "name": "python3"
  },
  "language_info": {
   "codemirror_mode": {
    "name": "ipython",
    "version": 3
   },
   "file_extension": ".py",
   "mimetype": "text/x-python",
   "name": "python",
   "nbconvert_exporter": "python",
   "pygments_lexer": "ipython3",
   "version": "3.12.7"
  }
 },
 "nbformat": 4,
 "nbformat_minor": 2
}
