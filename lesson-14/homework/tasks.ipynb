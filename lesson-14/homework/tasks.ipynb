{
 "cells": [
  {
   "cell_type": "code",
   "execution_count": 13,
   "metadata": {},
   "outputs": [],
   "source": [
    "import numpy as np\n",
    "from PIL import Image\n",
    "import os"
   ]
  },
  {
   "cell_type": "markdown",
   "metadata": {},
   "source": [
    "Task 1"
   ]
  },
  {
   "cell_type": "code",
   "execution_count": 14,
   "metadata": {},
   "outputs": [
    {
     "name": "stdout",
     "output_type": "stream",
     "text": [
      "[  0.          20.          37.77777778 100.          25.        ]\n"
     ]
    }
   ],
   "source": [
    "def fahrenheit_to_celsius(f):\n",
    "    return (f - 32) * 5.0 / 9.0\n",
    "\n",
    "temperatures_f = np.array([32, 68, 100, 212, 77])\n",
    "vectorized_conversion = np.vectorize(fahrenheit_to_celsius)\n",
    "temperatures_c = vectorized_conversion(temperatures_f)\n",
    "print(temperatures_c)"
   ]
  },
  {
   "cell_type": "markdown",
   "metadata": {},
   "source": [
    "Task 2"
   ]
  },
  {
   "cell_type": "code",
   "execution_count": 15,
   "metadata": {},
   "outputs": [
    {
     "name": "stdout",
     "output_type": "stream",
     "text": [
      "[  2   9  64 625]\n"
     ]
    }
   ],
   "source": [
    "def custom_power(base, exponent):\n",
    "    return base ** exponent\n",
    "\n",
    "bases = np.array([2, 3, 4, 5])\n",
    "exponents = np.array([1, 2, 3, 4])\n",
    "vectorized_power = np.vectorize(custom_power)\n",
    "results = vectorized_power(bases, exponents)\n",
    "print(results)"
   ]
  },
  {
   "cell_type": "markdown",
   "metadata": {},
   "source": [
    "Task 3"
   ]
  },
  {
   "cell_type": "code",
   "execution_count": 16,
   "metadata": {},
   "outputs": [
    {
     "name": "stdout",
     "output_type": "stream",
     "text": [
      "[ 1.7027027   0.62162162 -0.48648649]\n"
     ]
    }
   ],
   "source": [
    "A = np.array([\n",
    "    [4, 5, 6],\n",
    "    [3, -1, 1],\n",
    "    [2, 1, -2]\n",
    "])\n",
    "B = np.array([7, 4, 5])\n",
    "solution = np.linalg.solve(A, B)\n",
    "print(solution)"
   ]
  },
  {
   "cell_type": "markdown",
   "metadata": {},
   "source": [
    "Task 4"
   ]
  },
  {
   "cell_type": "code",
   "execution_count": 17,
   "metadata": {},
   "outputs": [
    {
     "name": "stdout",
     "output_type": "stream",
     "text": [
      "[ 0.48963731 -0.2253886   2.21761658]\n"
     ]
    }
   ],
   "source": [
    "A_circuit = np.array([\n",
    "    [10, -2, 3],\n",
    "    [-2, 8, -1],\n",
    "    [3, -1, 6]\n",
    "])\n",
    "B_circuit = np.array([12, -5, 15])\n",
    "currents = np.linalg.solve(A_circuit, B_circuit)\n",
    "print(currents)"
   ]
  },
  {
   "cell_type": "markdown",
   "metadata": {},
   "source": []
  },
  {
   "cell_type": "code",
   "execution_count": 19,
   "metadata": {},
   "outputs": [],
   "source": [
    "image_path = \"C:/Users/user/Desktop/python-homeworks/lesson-14/homework/birds.jpg\"\n",
    "image = Image.open(image_path)\n",
    "image_array = np.array(image)\n",
    "flipped_image = np.flipud(np.fliplr(image_array))\n",
    "noise = np.random.randint(0, 50, image_array.shape, dtype='uint8')\n",
    "noisy_image = np.clip(image_array + noise, 0, 255)\n",
    "brightened_image = image_array.copy()\n",
    "brightened_image[:, :, 0] = np.clip(brightened_image[:, :, 0] + 40, 0, 255)\n",
    "masked_image = image_array.copy()\n",
    "center_x, center_y = masked_image.shape[1] // 2, masked_image.shape[0] // 2\n",
    "masked_image[center_y - 50:center_y + 50, center_x - 50:center_x + 50] = [0, 0, 0]\n",
    "output_dir = \"images\"\n",
    "os.makedirs(output_dir, exist_ok=True)\n",
    "Image.fromarray(flipped_image).save(f\"{output_dir}/birds_flipped.jpg\")\n",
    "Image.fromarray(noisy_image).save(f\"{output_dir}/birds_noisy.jpg\")\n",
    "Image.fromarray(brightened_image).save(f\"{output_dir}/birds_brightened.jpg\")\n",
    "Image.fromarray(masked_image).save(f\"{output_dir}/birds_masked.jpg\")\n"
   ]
  }
 ],
 "metadata": {
  "kernelspec": {
   "display_name": ".venv",
   "language": "python",
   "name": "python3"
  },
  "language_info": {
   "codemirror_mode": {
    "name": "ipython",
    "version": 3
   },
   "file_extension": ".py",
   "mimetype": "text/x-python",
   "name": "python",
   "nbconvert_exporter": "python",
   "pygments_lexer": "ipython3",
   "version": "3.12.7"
  }
 },
 "nbformat": 4,
 "nbformat_minor": 2
}
