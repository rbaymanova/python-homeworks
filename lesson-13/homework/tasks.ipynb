{
 "cells": [
  {
   "cell_type": "code",
   "execution_count": null,
   "metadata": {},
   "outputs": [
    {
     "name": "stdout",
     "output_type": "stream",
     "text": [
      "[10 11 12 13 14 15 16 17 18 19 20 21 22 23 24 25 26 27 28 29 30 31 32 33\n",
      " 34 35 36 37 38 39 40 41 42 43 44 45 46 47 48 49]\n"
     ]
    }
   ],
   "source": [
    "import numpy as np\n"
   ]
  },
  {
   "cell_type": "markdown",
   "metadata": {},
   "source": [
    "Create a vector with values ranging from 10 to 49."
   ]
  },
  {
   "cell_type": "code",
   "execution_count": 4,
   "metadata": {},
   "outputs": [
    {
     "name": "stdout",
     "output_type": "stream",
     "text": [
      "[10 11 12 13 14 15 16 17 18 19 20 21 22 23 24 25 26 27 28 29 30 31 32 33\n",
      " 34 35 36 37 38 39 40 41 42 43 44 45 46 47 48 49]\n"
     ]
    }
   ],
   "source": [
    "vector = np.arange(10, 50)\n",
    "print(vector)"
   ]
  },
  {
   "cell_type": "markdown",
   "metadata": {},
   "source": [
    "Create a 3x3 matrix with values ranging from 0 to 8."
   ]
  },
  {
   "cell_type": "code",
   "execution_count": 5,
   "metadata": {},
   "outputs": [
    {
     "name": "stdout",
     "output_type": "stream",
     "text": [
      "[[0 1 2]\n",
      " [3 4 5]\n",
      " [6 7 8]]\n"
     ]
    }
   ],
   "source": [
    "matrix = np.arange(9).reshape(3, 3)\n",
    "print(matrix)"
   ]
  },
  {
   "cell_type": "markdown",
   "metadata": {},
   "source": [
    "Create a 3x3 identity matrix."
   ]
  },
  {
   "cell_type": "code",
   "execution_count": 6,
   "metadata": {},
   "outputs": [
    {
     "name": "stdout",
     "output_type": "stream",
     "text": [
      "[[1. 0. 0.]\n",
      " [0. 1. 0.]\n",
      " [0. 0. 1.]]\n"
     ]
    }
   ],
   "source": [
    "identity_matrix = np.eye(3)\n",
    "print(identity_matrix)"
   ]
  },
  {
   "cell_type": "markdown",
   "metadata": {},
   "source": [
    "Create a 3x3x3 array with random values."
   ]
  },
  {
   "cell_type": "code",
   "execution_count": 9,
   "metadata": {},
   "outputs": [
    {
     "name": "stdout",
     "output_type": "stream",
     "text": [
      "[[[0.76863733 0.00477127 0.82313387]\n",
      "  [0.78757984 0.01084799 0.02282466]\n",
      "  [0.40846049 0.35103648 0.33218855]]\n",
      "\n",
      " [[0.57663985 0.40218666 0.37657519]\n",
      "  [0.80113241 0.64741915 0.94517746]\n",
      "  [0.73117498 0.97811166 0.38598203]]\n",
      "\n",
      " [[0.01218752 0.55718988 0.2025907 ]\n",
      "  [0.62628604 0.32764168 0.31879516]\n",
      "  [0.5647909  0.02921116 0.16853672]]]\n"
     ]
    }
   ],
   "source": [
    "random_array = np.random.random((3, 3, 3))\n",
    "print(random_array)"
   ]
  },
  {
   "cell_type": "markdown",
   "metadata": {},
   "source": [
    "Create a 10x10 array with random values and find the minimum and maximum values.\n"
   ]
  },
  {
   "cell_type": "code",
   "execution_count": 13,
   "metadata": {},
   "outputs": [
    {
     "name": "stdout",
     "output_type": "stream",
     "text": [
      "Array:\n",
      " [[0.79333169 0.36771026 0.08812026 0.34858514 0.02968634 0.75671362\n",
      "  0.7500439  0.12432278 0.88761976 0.23612051]\n",
      " [0.10636647 0.08793698 0.49479875 0.05423032 0.78530433 0.48477797\n",
      "  0.69517409 0.13554607 0.83098815 0.71210442]\n",
      " [0.16672498 0.47233785 0.63561267 0.66816395 0.71834087 0.06341666\n",
      "  0.00505269 0.80588608 0.24410911 0.40387159]\n",
      " [0.66905419 0.52094012 0.3709392  0.16140162 0.53497701 0.94945735\n",
      "  0.19735615 0.70663482 0.13271893 0.94111595]\n",
      " [0.04206876 0.53077384 0.63540213 0.05888354 0.53992017 0.63097994\n",
      "  0.97614406 0.72780935 0.14173788 0.89018525]\n",
      " [0.21927256 0.28261154 0.23581184 0.52067854 0.73212358 0.93412581\n",
      "  0.68800239 0.31117859 0.85987385 0.75469994]\n",
      " [0.37822696 0.17509566 0.22443004 0.00537127 0.66675693 0.9028386\n",
      "  0.55966514 0.42024615 0.25841441 0.99797885]\n",
      " [0.65386853 0.08213085 0.05882875 0.50006321 0.78180934 0.96073051\n",
      "  0.63604834 0.84609436 0.32636778 0.19743394]\n",
      " [0.34026223 0.12693418 0.5649184  0.37446012 0.81231736 0.03521132\n",
      "  0.91792957 0.40288549 0.3542902  0.21151319]\n",
      " [0.33309236 0.5660325  0.25347387 0.83618958 0.41503544 0.28522441\n",
      "  0.1458704  0.47622707 0.19397515 0.62021238]]\n",
      "Minimum value: 0.0050526949518676645\n",
      "Maximum value: 0.997978848298436\n"
     ]
    }
   ],
   "source": [
    "ten_by_ten = np.random.rand(10, 10)\n",
    "print(\"Array:\\n\", ten_by_ten)\n",
    "print(\"Minimum value:\", ten_by_ten.min())\n",
    "print(\"Maximum value:\", ten_by_ten.max())"
   ]
  },
  {
   "cell_type": "markdown",
   "metadata": {},
   "source": [
    "Create a random vector of size 30 and find the mean value."
   ]
  },
  {
   "cell_type": "code",
   "execution_count": 16,
   "metadata": {},
   "outputs": [
    {
     "name": "stdout",
     "output_type": "stream",
     "text": [
      "[0.7251032  0.8427179  0.68521809 0.86564383 0.90527306 0.9812381\n",
      " 0.45591367 0.95775109 0.85685702 0.64968457 0.59636705 0.97941571\n",
      " 0.06372087 0.34333914 0.92548024 0.12568013 0.84376325 0.39949744\n",
      " 0.80774961 0.16297006 0.63974328 0.31595835 0.68094504 0.03630925\n",
      " 0.75920269 0.76640608 0.97622914 0.76880847 0.69686446 0.9582794 ]\n",
      "Mean value: 0.6590710067401271\n"
     ]
    }
   ],
   "source": [
    "random_vector = np.random.rand(30)\n",
    "mean_value = random_vector.mean()\n",
    "print(random_vector)\n",
    "print(\"Mean value:\", mean_value)"
   ]
  },
  {
   "cell_type": "markdown",
   "metadata": {},
   "source": [
    "Normalize a 5x5 random matrix."
   ]
  },
  {
   "cell_type": "code",
   "execution_count": 18,
   "metadata": {},
   "outputs": [
    {
     "name": "stdout",
     "output_type": "stream",
     "text": [
      "[[0.31241228 0.35307699 0.63377566 0.52734773 0.95181835]\n",
      " [0.36031001 0.56264884 0.67219201 0.27087739 0.0740174 ]\n",
      " [0.93903692 0.25467892 0.24445198 0.27183077 0.91039603]\n",
      " [0.86394334 0.75825557 0.77362325 0.92190771 0.92031154]\n",
      " [0.61354246 0.06407571 0.27782312 0.9284801  0.31229077]]\n",
      "Normalized Matrix: \n",
      " [[-0.81516227 -0.67618296  0.2831578  -0.08057977  1.37012884]\n",
      " [-0.65146274  0.04006847  0.41445295 -0.95711564 -1.62992186]\n",
      " [ 1.32644588 -1.01247696 -1.04742945 -0.95385726  1.2285602 ]\n",
      " [ 1.06979938  0.70859145  0.76111338  1.26790357  1.26244834]\n",
      " [ 0.21400702 -1.66389948 -0.93337727  1.29036593 -0.81557756]]\n"
     ]
    }
   ],
   "source": [
    "random_matrix = np.random.random((5, 5))\n",
    "mean = random_matrix.mean()\n",
    "std = random_matrix.std()\n",
    "\n",
    "normalized_matrix = (random_matrix - mean) / std\n",
    "print(random_matrix)\n",
    "print(\"Normalized Matrix: \\n\", normalized_matrix)"
   ]
  },
  {
   "cell_type": "markdown",
   "metadata": {},
   "source": [
    "Multiply a 5x3 matrix by a 3x2 matrix (real matrix product)."
   ]
  },
  {
   "cell_type": "code",
   "execution_count": 19,
   "metadata": {},
   "outputs": [
    {
     "name": "stdout",
     "output_type": "stream",
     "text": [
      "5x3 matrix:\n",
      " [[0.67483955 0.54814899 0.61705427]\n",
      " [0.91979972 0.74302548 0.24829542]\n",
      " [0.55646455 0.6390632  0.73773883]\n",
      " [0.49940552 0.91284234 0.0389538 ]\n",
      " [0.95267049 0.90557929 0.72524248]]\n",
      "3x2 matrix:\n",
      " [[0.42958027 0.20049105]\n",
      " [0.27887641 0.38015021]\n",
      " [0.22297787 0.72879642]]\n",
      "Result of multiplication:\n",
      " [[0.58035302 0.79338519]\n",
      " [0.65770448 0.64782972]\n",
      " [0.58176528 0.8921676 ]\n",
      " [0.47779079 0.47553294]\n",
      " [0.82350617 1.06381219]]\n"
     ]
    }
   ],
   "source": [
    "matrix_5x3 = np.random.random((5, 3))\n",
    "matrix_3x2 = np.random.random((3, 2))\n",
    "\n",
    "result = matrix_5x3.dot(matrix_3x2)\n",
    "print(\"5x3 matrix:\\n\", matrix_5x3)\n",
    "print(\"3x2 matrix:\\n\", matrix_3x2)\n",
    "print(\"Result of multiplication:\\n\", result)"
   ]
  },
  {
   "cell_type": "markdown",
   "metadata": {},
   "source": [
    "Create two 3x3 matrices and compute their dot product."
   ]
  },
  {
   "cell_type": "code",
   "execution_count": 20,
   "metadata": {},
   "outputs": [
    {
     "name": "stdout",
     "output_type": "stream",
     "text": [
      "Matrix 1:\n",
      " [[0.63036431 0.29528059 0.72342188]\n",
      " [0.75185139 0.77409741 0.18213549]\n",
      " [0.39043684 0.64460244 0.09919823]]\n",
      "Matrix 2:\n",
      " [[0.13536771 0.10286594 0.61340321]\n",
      " [0.40289219 0.93499786 0.41617053]\n",
      " [0.17620407 0.04281542 0.84603313]]\n",
      "Dot product:\n",
      " [[0.3317671  0.37190336 1.12159344]\n",
      " [0.44574722 0.80891753 0.93743724]\n",
      " [0.33003696 0.64711177 0.59168474]]\n"
     ]
    }
   ],
   "source": [
    "matrix1 = np.random.random((3, 3))\n",
    "matrix2 = np.random.random((3, 3))\n",
    "\n",
    "dot_product = np.dot(matrix1, matrix2)\n",
    "print(\"Matrix 1:\\n\", matrix1)\n",
    "print(\"Matrix 2:\\n\", matrix2)\n",
    "print(\"Dot product:\\n\", dot_product)"
   ]
  },
  {
   "cell_type": "markdown",
   "metadata": {},
   "source": [
    "Given a 4x4 matrix, find its transpose."
   ]
  },
  {
   "cell_type": "code",
   "execution_count": 22,
   "metadata": {},
   "outputs": [
    {
     "name": "stdout",
     "output_type": "stream",
     "text": [
      "Original:\n",
      " [[ 0  1  2  3]\n",
      " [ 4  5  6  7]\n",
      " [ 8  9 10 11]\n",
      " [12 13 14 15]]\n",
      "Transposed:\n",
      " [[ 0  4  8 12]\n",
      " [ 1  5  9 13]\n",
      " [ 2  6 10 14]\n",
      " [ 3  7 11 15]]\n"
     ]
    }
   ],
   "source": [
    "matrix_4x4 = np.arange(16).reshape(4, 4)\n",
    "print(\"Original:\\n\", matrix_4x4)\n",
    "\n",
    "transpose_4x4 = matrix_4x4.T\n",
    "print(\"Transposed:\\n\", transpose_4x4)"
   ]
  },
  {
   "cell_type": "markdown",
   "metadata": {},
   "source": [
    "Create a 3x3 matrix and calculate its determinant."
   ]
  },
  {
   "cell_type": "code",
   "execution_count": 25,
   "metadata": {},
   "outputs": [
    {
     "name": "stdout",
     "output_type": "stream",
     "text": [
      "3x3 Matrix:\n",
      " [[0.0803566  0.42564991 0.83191549]\n",
      " [0.16238446 0.89971744 0.22917106]\n",
      " [0.7082304  0.81682002 0.44442288]]\n",
      "Determinant: -0.36430186094235584\n"
     ]
    }
   ],
   "source": [
    "matrix_3x3 = np.random.random((3, 3))\n",
    "determinant = np.linalg.det(matrix_3x3)\n",
    "print(\"3x3 Matrix:\\n\", matrix_3x3)\n",
    "print(\"Determinant:\", determinant)"
   ]
  },
  {
   "cell_type": "markdown",
   "metadata": {},
   "source": [
    "Create two matrices ( A ) (3x4) and ( B ) (4x3), and compute the matrix product ( A \\cdot B )."
   ]
  },
  {
   "cell_type": "code",
   "execution_count": 26,
   "metadata": {},
   "outputs": [
    {
     "name": "stdout",
     "output_type": "stream",
     "text": [
      "Matrix A:\n",
      " [[0.42708168 0.14236081 0.15641187 0.39222989]\n",
      " [0.02644773 0.32128059 0.60921402 0.25834244]\n",
      " [0.49790946 0.57337668 0.00200646 0.53652401]]\n",
      "Matrix B:\n",
      " [[0.26304092 0.2429492  0.96745503]\n",
      " [0.71297755 0.52004461 0.50115141]\n",
      " [0.91022486 0.70291704 0.98078327]\n",
      " [0.2237505  0.05281049 0.2219322 ]]\n",
      "Matrix product:\n",
      " [[0.44397162 0.30845155 0.72498123]\n",
      " [0.84834868 0.6153758  0.84143863]\n",
      " [0.6616491  0.44889263 0.89009339]]\n"
     ]
    }
   ],
   "source": [
    "A = np.random.random((3, 4))\n",
    "B = np.random.random((4, 3))\n",
    "\n",
    "matrix_product = np.dot(A, B)\n",
    "print(\"Matrix A:\\n\", A)\n",
    "print(\"Matrix B:\\n\", B)\n",
    "print(\"Matrix product:\\n\", matrix_product)"
   ]
  },
  {
   "cell_type": "markdown",
   "metadata": {},
   "source": [
    "Create a 3x3 random matrix and a 3-element column vector. Compute the matrix-vector product."
   ]
  },
  {
   "cell_type": "code",
   "execution_count": 27,
   "metadata": {},
   "outputs": [
    {
     "name": "stdout",
     "output_type": "stream",
     "text": [
      "Solution for x: [2.08467191 1.83031812 0.06419897]\n"
     ]
    }
   ],
   "source": [
    "b = np.array([1, 2, 3])  \n",
    "x = np.linalg.solve(matrix_3x3, b)\n",
    "print(\"Solution for x:\", x)"
   ]
  },
  {
   "cell_type": "markdown",
   "metadata": {},
   "source": [
    "Given a 5x5 matrix, find the row-wise and column-wise sums."
   ]
  },
  {
   "cell_type": "code",
   "execution_count": 31,
   "metadata": {},
   "outputs": [
    {
     "name": "stdout",
     "output_type": "stream",
     "text": [
      "Row-wise sums: [2.80143909 2.71278835 1.59617724 0.95973927 3.98713598]\n",
      "Column-wise sums: [1.69376052 2.79067475 2.18545423 2.48392366 2.90346677]\n"
     ]
    }
   ],
   "source": [
    "random_matrix = np.random.random((5, 5))\n",
    "row_sums = random_matrix.sum(axis=1)\n",
    "col_sums = random_matrix.sum(axis=0)\n",
    "print(\"Row-wise sums:\", row_sums)\n",
    "print(\"Column-wise sums:\", col_sums)"
   ]
  }
 ],
 "metadata": {
  "kernelspec": {
   "display_name": ".venv",
   "language": "python",
   "name": "python3"
  },
  "language_info": {
   "codemirror_mode": {
    "name": "ipython",
    "version": 3
   },
   "file_extension": ".py",
   "mimetype": "text/x-python",
   "name": "python",
   "nbconvert_exporter": "python",
   "pygments_lexer": "ipython3",
   "version": "3.12.7"
  }
 },
 "nbformat": 4,
 "nbformat_minor": 2
}
